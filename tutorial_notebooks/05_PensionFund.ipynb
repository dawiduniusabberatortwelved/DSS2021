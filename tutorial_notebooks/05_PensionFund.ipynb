{
 "cells": [
  {
   "cell_type": "code",
   "execution_count": 1,
   "metadata": {},
   "outputs": [
    {
     "name": "stdout",
     "output_type": "stream",
     "text": [
      "Requirement already satisfied: pulp in /usr/local/anaconda3/lib/python3.8/site-packages (2.3.1)\n",
      "Requirement already satisfied: amply>=0.1.2 in /usr/local/anaconda3/lib/python3.8/site-packages (from pulp) (0.1.4)\n",
      "Requirement already satisfied: pyparsing in /usr/local/anaconda3/lib/python3.8/site-packages (from amply>=0.1.2->pulp) (2.4.7)\n",
      "Requirement already satisfied: docutils>=0.3 in /usr/local/anaconda3/lib/python3.8/site-packages (from amply>=0.1.2->pulp) (0.16)\n"
     ]
    }
   ],
   "source": [
    "!pip install pulp\n",
    "from pulp import *\n",
    "import numpy as np\n",
    "import pandas as pd\n",
    "import matplotlib.pyplot as plt\n",
    "import seaborn as sns\n",
    "from scipy.stats import norm"
   ]
  },
  {
   "cell_type": "code",
   "execution_count": 2,
   "metadata": {},
   "outputs": [],
   "source": [
    "payments = [11000,12000,14000,15000,16000,\n",
    "            18000,20000,21000,22000,24000,\n",
    "            25000,30000,31000,31000,31000]\n",
    "\n",
    "yields = [[0,60,60,60,60,1060,0,0,0,0,0,0,0,0,0],\n",
    "          [0,65,65,65,65,65,65,65,65,65,65,1060,0,0,0],\n",
    "          [0,75,75,75,75,75,75,75,75,75,75,75,75,75,1075]\n",
    "         ]\n",
    "\n",
    "costs = [980,970,1050]\n",
    "\n",
    "bonds = range(len(costs))\n",
    "years = range(len(payments))"
   ]
  },
  {
   "cell_type": "code",
   "execution_count": 3,
   "metadata": {},
   "outputs": [],
   "source": [
    "# Problem\n",
    "prob = LpProblem(\"Pension_Fund\", LpMaximize)\n",
    "\n",
    "# Variables\n",
    "## number of bond i bought \n",
    "x = LpVariable.dicts(\"Bond\", bonds, 0)\n",
    "## cash available at the end of year j\n",
    "y = LpVariable.dicts(\"Cash\", years, 0)\n",
    "\n",
    "# Objective function\n",
    "prob += lpSum([yields[i][k]*x[i] for i in bonds for k in years]+\n",
    "              [-costs[i]*x[i] for i in bonds] +\n",
    "              [-payments[k] for k in years]) + 250000\n",
    "\n",
    "# Constraints \n",
    "for j in years:\n",
    "    prob += lpSum([yields[i][k]*x[i] for i in bonds for k in range(j+1)]+\n",
    "                  [-costs[i]*x[i] for i in bonds] +\n",
    "                  [-payments[k] for k in range(j+1)]) + 250000 == y[j]\n",
    "    \n",
    "for j in years:\n",
    "    prob += y[j] >= 0"
   ]
  },
  {
   "cell_type": "code",
   "execution_count": 4,
   "metadata": {},
   "outputs": [
    {
     "name": "stdout",
     "output_type": "stream",
     "text": [
      "Pension_Fund:\n",
      "MAXIMIZE\n",
      "320*Bond_0 + 740*Bond_1 + 1000*Bond_2 + -71000\n",
      "SUBJECT TO\n",
      "_C1: - 980 Bond_0 - 970 Bond_1 - 1050 Bond_2 - Cash_0 = -239000\n",
      "\n",
      "_C2: - 920 Bond_0 - 905 Bond_1 - 975 Bond_2 - Cash_1 = -227000\n",
      "\n",
      "_C3: - 860 Bond_0 - 840 Bond_1 - 900 Bond_2 - Cash_2 = -213000\n",
      "\n",
      "_C4: - 800 Bond_0 - 775 Bond_1 - 825 Bond_2 - Cash_3 = -198000\n",
      "\n",
      "_C5: - 740 Bond_0 - 710 Bond_1 - 750 Bond_2 - Cash_4 = -182000\n",
      "\n",
      "_C6: 320 Bond_0 - 645 Bond_1 - 675 Bond_2 - Cash_5 = -164000\n",
      "\n",
      "_C7: 320 Bond_0 - 580 Bond_1 - 600 Bond_2 - Cash_6 = -144000\n",
      "\n",
      "_C8: 320 Bond_0 - 515 Bond_1 - 525 Bond_2 - Cash_7 = -123000\n",
      "\n",
      "_C9: 320 Bond_0 - 450 Bond_1 - 450 Bond_2 - Cash_8 = -101000\n",
      "\n",
      "_C10: 320 Bond_0 - 385 Bond_1 - 375 Bond_2 - Cash_9 = -77000\n",
      "\n",
      "_C11: 320 Bond_0 - 320 Bond_1 - 300 Bond_2 - Cash_10 = -52000\n",
      "\n",
      "_C12: 320 Bond_0 + 740 Bond_1 - 225 Bond_2 - Cash_11 = -22000\n",
      "\n",
      "_C13: 320 Bond_0 + 740 Bond_1 - 150 Bond_2 - Cash_12 = 9000\n",
      "\n",
      "_C14: 320 Bond_0 + 740 Bond_1 - 75 Bond_2 - Cash_13 = 40000\n",
      "\n",
      "_C15: 320 Bond_0 + 740 Bond_1 + 1000 Bond_2 - Cash_14 = 71000\n",
      "\n",
      "_C16: Cash_0 >= 0\n",
      "\n",
      "_C17: Cash_1 >= 0\n",
      "\n",
      "_C18: Cash_2 >= 0\n",
      "\n",
      "_C19: Cash_3 >= 0\n",
      "\n",
      "_C20: Cash_4 >= 0\n",
      "\n",
      "_C21: Cash_5 >= 0\n",
      "\n",
      "_C22: Cash_6 >= 0\n",
      "\n",
      "_C23: Cash_7 >= 0\n",
      "\n",
      "_C24: Cash_8 >= 0\n",
      "\n",
      "_C25: Cash_9 >= 0\n",
      "\n",
      "_C26: Cash_10 >= 0\n",
      "\n",
      "_C27: Cash_11 >= 0\n",
      "\n",
      "_C28: Cash_12 >= 0\n",
      "\n",
      "_C29: Cash_13 >= 0\n",
      "\n",
      "_C30: Cash_14 >= 0\n",
      "\n",
      "VARIABLES\n",
      "Bond_0 Continuous\n",
      "Bond_1 Continuous\n",
      "Bond_2 Continuous\n",
      "Cash_0 Continuous\n",
      "Cash_1 Continuous\n",
      "Cash_10 Continuous\n",
      "Cash_11 Continuous\n",
      "Cash_12 Continuous\n",
      "Cash_13 Continuous\n",
      "Cash_14 Continuous\n",
      "Cash_2 Continuous\n",
      "Cash_3 Continuous\n",
      "Cash_4 Continuous\n",
      "Cash_5 Continuous\n",
      "Cash_6 Continuous\n",
      "Cash_7 Continuous\n",
      "Cash_8 Continuous\n",
      "Cash_9 Continuous\n",
      "\n"
     ]
    }
   ],
   "source": [
    "print(prob)"
   ]
  },
  {
   "cell_type": "code",
   "execution_count": 5,
   "metadata": {},
   "outputs": [
    {
     "name": "stdout",
     "output_type": "stream",
     "text": [
      "Status = Optimal\n"
     ]
    }
   ],
   "source": [
    "# Optimize\n",
    "prob.solve()\n",
    "\n",
    "# Print the status of the solved LP\n",
    "print(\"Status = %s\" % LpStatus[prob.status])"
   ]
  },
  {
   "cell_type": "code",
   "execution_count": 6,
   "metadata": {
    "scrolled": true
   },
   "outputs": [
    {
     "name": "stdout",
     "output_type": "stream",
     "text": [
      "Bond_0 = 31.109215\n",
      "Bond_1 = 55.529010\n",
      "Bond_2 = 147.285550\n",
      "Objective = 127331.966200\n"
     ]
    }
   ],
   "source": [
    "# Print the value of the variables at the optimum\n",
    "for b in bonds:\n",
    "    print(\"%s = %f\" % (x[b].name, x[b].varValue))\n",
    "\n",
    "# Print the value of the objective\n",
    "print(\"Objective = %f\" % value(prob.objective))"
   ]
  },
  {
   "cell_type": "code",
   "execution_count": 7,
   "metadata": {},
   "outputs": [],
   "source": [
    "data_fixed = pd.DataFrame([y[j].varValue for j in years] , index = years, columns = ['fixed'])\n",
    "\n",
    "sigma = 500\n",
    "nb_scenarios = 100\n",
    "payments_random = [np.random.normal(payments[j], sigma, nb_scenarios) for j in years]\n",
    "data_scenarios = pd.DataFrame([sum([yields[i][k]*x[i].varValue for i in bonds for k in range(j+1)]) + \n",
    "                               sum([-costs[i]*x[i].varValue for i in bonds]) +\n",
    "                               sum([-payments_random[k] for k in range(j+1)]) + 250000 for j in years],\n",
    "                              index = years\n",
    "                             )\n",
    "\n",
    "data = pd.concat([data_fixed, data_scenarios], axis=1).reset_index().melt(id_vars=['index']).rename(columns={'index':'year', 'variable':'scenario'})\n",
    "data['kind'] = np.where(data['scenario']=='fixed', 'fixed', 'random')"
   ]
  },
  {
   "cell_type": "code",
   "execution_count": 8,
   "metadata": {},
   "outputs": [
    {
     "data": {
      "text/html": [
       "<div>\n",
       "<style scoped>\n",
       "    .dataframe tbody tr th:only-of-type {\n",
       "        vertical-align: middle;\n",
       "    }\n",
       "\n",
       "    .dataframe tbody tr th {\n",
       "        vertical-align: top;\n",
       "    }\n",
       "\n",
       "    .dataframe thead th {\n",
       "        text-align: right;\n",
       "    }\n",
       "</style>\n",
       "<table border=\"1\" class=\"dataframe\">\n",
       "  <thead>\n",
       "    <tr style=\"text-align: right;\">\n",
       "      <th></th>\n",
       "      <th>year</th>\n",
       "      <th>scenario</th>\n",
       "      <th>value</th>\n",
       "      <th>kind</th>\n",
       "    </tr>\n",
       "  </thead>\n",
       "  <tbody>\n",
       "    <tr>\n",
       "      <th>208</th>\n",
       "      <td>13</td>\n",
       "      <td>12</td>\n",
       "      <td>-6133.707808</td>\n",
       "      <td>random</td>\n",
       "    </tr>\n",
       "    <tr>\n",
       "      <th>43</th>\n",
       "      <td>13</td>\n",
       "      <td>1</td>\n",
       "      <td>-5706.613475</td>\n",
       "      <td>random</td>\n",
       "    </tr>\n",
       "    <tr>\n",
       "      <th>205</th>\n",
       "      <td>10</td>\n",
       "      <td>12</td>\n",
       "      <td>-4491.390204</td>\n",
       "      <td>random</td>\n",
       "    </tr>\n",
       "    <tr>\n",
       "      <th>763</th>\n",
       "      <td>13</td>\n",
       "      <td>49</td>\n",
       "      <td>-3950.750115</td>\n",
       "      <td>random</td>\n",
       "    </tr>\n",
       "    <tr>\n",
       "      <th>823</th>\n",
       "      <td>13</td>\n",
       "      <td>53</td>\n",
       "      <td>-3855.806399</td>\n",
       "      <td>random</td>\n",
       "    </tr>\n",
       "    <tr>\n",
       "      <th>...</th>\n",
       "      <td>...</td>\n",
       "      <td>...</td>\n",
       "      <td>...</td>\n",
       "      <td>...</td>\n",
       "    </tr>\n",
       "    <tr>\n",
       "      <th>374</th>\n",
       "      <td>14</td>\n",
       "      <td>23</td>\n",
       "      <td>130857.673291</td>\n",
       "      <td>random</td>\n",
       "    </tr>\n",
       "    <tr>\n",
       "      <th>1499</th>\n",
       "      <td>14</td>\n",
       "      <td>98</td>\n",
       "      <td>130921.768207</td>\n",
       "      <td>random</td>\n",
       "    </tr>\n",
       "    <tr>\n",
       "      <th>1244</th>\n",
       "      <td>14</td>\n",
       "      <td>81</td>\n",
       "      <td>131047.209651</td>\n",
       "      <td>random</td>\n",
       "    </tr>\n",
       "    <tr>\n",
       "      <th>689</th>\n",
       "      <td>14</td>\n",
       "      <td>44</td>\n",
       "      <td>131619.467703</td>\n",
       "      <td>random</td>\n",
       "    </tr>\n",
       "    <tr>\n",
       "      <th>1484</th>\n",
       "      <td>14</td>\n",
       "      <td>97</td>\n",
       "      <td>132864.233421</td>\n",
       "      <td>random</td>\n",
       "    </tr>\n",
       "  </tbody>\n",
       "</table>\n",
       "<p>1515 rows × 4 columns</p>\n",
       "</div>"
      ],
      "text/plain": [
       "      year scenario          value    kind\n",
       "208     13       12   -6133.707808  random\n",
       "43      13        1   -5706.613475  random\n",
       "205     10       12   -4491.390204  random\n",
       "763     13       49   -3950.750115  random\n",
       "823     13       53   -3855.806399  random\n",
       "...    ...      ...            ...     ...\n",
       "374     14       23  130857.673291  random\n",
       "1499    14       98  130921.768207  random\n",
       "1244    14       81  131047.209651  random\n",
       "689     14       44  131619.467703  random\n",
       "1484    14       97  132864.233421  random\n",
       "\n",
       "[1515 rows x 4 columns]"
      ]
     },
     "execution_count": 8,
     "metadata": {},
     "output_type": "execute_result"
    }
   ],
   "source": [
    "data.sort_values('value')"
   ]
  },
  {
   "cell_type": "code",
   "execution_count": 9,
   "metadata": {},
   "outputs": [
    {
     "data": {
      "image/png": "[encoded data removed]",
      "text/plain": [
       "<Figure size 434.625x360 with 1 Axes>"
      ]
     },
     "metadata": {
      "needs_background": "light"
     },
     "output_type": "display_data"
    }
   ],
   "source": [
    "sns.relplot(x='year', y='value', data=data, hue='kind')\n",
    "plt.plot(years, data_fixed)\n",
    "plt.axhline(0, color='red')\n",
    "plt.show()"
   ]
  },
  {
   "cell_type": "markdown",
   "metadata": {},
   "source": [
    "The blue line shows year by year cash profile. It's clear to see that with some uncertainty in the data, the line could easily dive below $0$. Let's assume that $\\beta_j$ introduced above are expected values of random payments $\\beta_{j*}$. We will further assume that $\\beta_{j*}$ is normally distributed with $\\sigma = 500$. When 100 different payment profiles were simulated based on the normal distribution we can clearly see that it's actually possible for the cash to dive below $0$ which shouldn't be allowed based on the constraint of the problem."
   ]
  },
  {
   "cell_type": "markdown",
   "metadata": {},
   "source": [
    "## Chance Constraints \n",
    "To incorporate uncertainty into this question, we will look at chance constraints."
   ]
  },
  {
   "cell_type": "code",
   "execution_count": 10,
   "metadata": {},
   "outputs": [],
   "source": [
    "def pension_problem(payments, yields, costs, payments_random, sigma, prob=0.95, print_problem=False, output=True):\n",
    "    \n",
    "    bonds = range(len(costs))\n",
    "    years = range(len(payments))\n",
    "    \n",
    "    # Problem\n",
    "    p = LpProblem(\"Pension_Fund\", LpMaximize)\n",
    "\n",
    "    # Variables\n",
    "    ## number of bond i bought \n",
    "    x = LpVariable.dicts(\"Bond\", bonds, 0)\n",
    "    ## cash available at the end of year j\n",
    "    y = LpVariable.dicts(\"Cash\", years, 0)\n",
    "\n",
    "    # Objective function\n",
    "    p += lpSum([yields[i][k]*x[i] for i in bonds for k in years]+\n",
    "                  [-costs[i]*x[i] for i in bonds] +\n",
    "                  [-payments[k] for k in years]) + 250000\n",
    "\n",
    "    # Constraints \n",
    "    for j in years:\n",
    "        p += lpSum([yields[i][k]*x[i] for i in bonds for k in range(j+1)]+\n",
    "                      [-costs[i]*x[i] for i in bonds] +\n",
    "                      [-payments[k] for k in range(j+1)]) + 250000 == y[j]\n",
    "\n",
    "    for j in years:\n",
    "        p += y[j] >= sigma*norm.ppf(prob)\n",
    "    \n",
    "    if print_problem:\n",
    "        print(p)\n",
    "    \n",
    "    # Optimize\n",
    "    p.solve()\n",
    "    \n",
    "    \n",
    "    # Print the status of the solved LP, if not optimal\n",
    "    if p.status !=1:\n",
    "        print(\"Status = %s\" % LpStatus[p.status])\n",
    "    obj = value(p.objective)\n",
    "    \n",
    "    if output:   \n",
    "        # Print the value of the variables at the optimum\n",
    "        for b in bonds:\n",
    "            print(\"%s = %f\" % (x[b].name, x[b].varValue))\n",
    "        # Print the value of the objective\n",
    "        print(\"Objective = %f\" % obj)\n",
    "    \n",
    "    res = pd.DataFrame([sum([yields[i][k]*x[i].varValue for i in bonds for k in range(j+1)]) + \n",
    "                        sum([-costs[i]*x[i].varValue for i in bonds]) +\n",
    "                        sum([-payments_random[k] for k in range(j+1)]) + 250000 for j in years],\n",
    "                       index = years\n",
    "                      )\n",
    "    \n",
    "    return(res, obj)"
   ]
  },
  {
   "cell_type": "code",
   "execution_count": 12,
   "metadata": {
    "scrolled": true
   },
   "outputs": [
    {
     "name": "stdout",
     "output_type": "stream",
     "text": [
      "Pension_Fund:\n",
      "MAXIMIZE\n",
      "320*Bond_0 + 740*Bond_1 + 1000*Bond_2 + -71000\n",
      "SUBJECT TO\n",
      "_C1: - 980 Bond_0 - 970 Bond_1 - 1050 Bond_2 - Cash_0 = -239000\n",
      "\n",
      "_C2: - 920 Bond_0 - 905 Bond_1 - 975 Bond_2 - Cash_1 = -227000\n",
      "\n",
      "_C3: - 860 Bond_0 - 840 Bond_1 - 900 Bond_2 - Cash_2 = -213000\n",
      "\n",
      "_C4: - 800 Bond_0 - 775 Bond_1 - 825 Bond_2 - Cash_3 = -198000\n",
      "\n",
      "_C5: - 740 Bond_0 - 710 Bond_1 - 750 Bond_2 - Cash_4 = -182000\n",
      "\n",
      "_C6: 320 Bond_0 - 645 Bond_1 - 675 Bond_2 - Cash_5 = -164000\n",
      "\n",
      "_C7: 320 Bond_0 - 580 Bond_1 - 600 Bond_2 - Cash_6 = -144000\n",
      "\n",
      "_C8: 320 Bond_0 - 515 Bond_1 - 525 Bond_2 - Cash_7 = -123000\n",
      "\n",
      "_C9: 320 Bond_0 - 450 Bond_1 - 450 Bond_2 - Cash_8 = -101000\n",
      "\n",
      "_C10: 320 Bond_0 - 385 Bond_1 - 375 Bond_2 - Cash_9 = -77000\n",
      "\n",
      "_C11: 320 Bond_0 - 320 Bond_1 - 300 Bond_2 - Cash_10 = -52000\n",
      "\n",
      "_C12: 320 Bond_0 + 740 Bond_1 - 225 Bond_2 - Cash_11 = -22000\n",
      "\n",
      "_C13: 320 Bond_0 + 740 Bond_1 - 150 Bond_2 - Cash_12 = 9000\n",
      "\n",
      "_C14: 320 Bond_0 + 740 Bond_1 - 75 Bond_2 - Cash_13 = 40000\n",
      "\n",
      "_C15: 320 Bond_0 + 740 Bond_1 + 1000 Bond_2 - Cash_14 = 71000\n",
      "\n",
      "_C16: Cash_0 >= 822.426813476\n",
      "\n",
      "_C17: Cash_1 >= 822.426813476\n",
      "\n",
      "_C18: Cash_2 >= 822.426813476\n",
      "\n",
      "_C19: Cash_3 >= 822.426813476\n",
      "\n",
      "_C20: Cash_4 >= 822.426813476\n",
      "\n",
      "_C21: Cash_5 >= 822.426813476\n",
      "\n",
      "_C22: Cash_6 >= 822.426813476\n",
      "\n",
      "_C23: Cash_7 >= 822.426813476\n",
      "\n",
      "_C24: Cash_8 >= 822.426813476\n",
      "\n",
      "_C25: Cash_9 >= 822.426813476\n",
      "\n",
      "_C26: Cash_10 >= 822.426813476\n",
      "\n",
      "_C27: Cash_11 >= 822.426813476\n",
      "\n",
      "_C28: Cash_12 >= 822.426813476\n",
      "\n",
      "_C29: Cash_13 >= 822.426813476\n",
      "\n",
      "_C30: Cash_14 >= 822.426813476\n",
      "\n",
      "VARIABLES\n",
      "Bond_0 Continuous\n",
      "Bond_1 Continuous\n",
      "Bond_2 Continuous\n",
      "Cash_0 Continuous\n",
      "Cash_1 Continuous\n",
      "Cash_10 Continuous\n",
      "Cash_11 Continuous\n",
      "Cash_12 Continuous\n",
      "Cash_13 Continuous\n",
      "Cash_14 Continuous\n",
      "Cash_2 Continuous\n",
      "Cash_3 Continuous\n",
      "Cash_4 Continuous\n",
      "Cash_5 Continuous\n",
      "Cash_6 Continuous\n",
      "Cash_7 Continuous\n",
      "Cash_8 Continuous\n",
      "Cash_9 Continuous\n",
      "\n",
      "Bond_0 = 32.120875\n",
      "Bond_1 = 55.985134\n",
      "Bond_2 = 145.136700\n",
      "Objective = 125844.379160\n"
     ]
    }
   ],
   "source": [
    "data_scenarios, obj = pension_problem(payments, yields, costs, payments_random, sigma, prob=0.95, print_problem=True)"
   ]
  },
  {
   "cell_type": "code",
   "execution_count": 13,
   "metadata": {},
   "outputs": [
    {
     "data": {
      "image/png": "[encoded data removed]",
      "text/plain": [
       "<Figure size 434.625x360 with 1 Axes>"
      ]
     },
     "metadata": {
      "needs_background": "light"
     },
     "output_type": "display_data"
    }
   ],
   "source": [
    "data = pd.concat([data_fixed, data_scenarios], axis=1).reset_index().melt(id_vars=['index']).rename(columns={'index':'year', 'variable':'scenario'})\n",
    "data['kind'] = np.where(data['scenario']=='fixed', 'fixed', 'random')\n",
    "\n",
    "sns.relplot(x='year', y='value', data=data, hue='kind')\n",
    "plt.plot(years, data_fixed)\n",
    "plt.axhline(0, color='red')\n",
    "plt.show()"
   ]
  },
  {
   "cell_type": "markdown",
   "metadata": {},
   "source": [
    "Trade-off between confidence level of always having a cash profile above $\\$0$ and the final cash left in the company at the end of the 15 years."
   ]
  },
  {
   "cell_type": "code",
   "execution_count": 14,
   "metadata": {
    "scrolled": true
   },
   "outputs": [],
   "source": [
    "cash_profil = {}\n",
    "for prob in range(60,100,1):\n",
    "    data_scenarios, obj = pension_problem(payments, yields, costs, payments_random, sigma, prob=prob/100, output=False)\n",
    "    cash_profil[prob] = obj"
   ]
  },
  {
   "cell_type": "code",
   "execution_count": 15,
   "metadata": {},
   "outputs": [
    {
     "data": {
      "image/png": "[encoded data removed]",
      "text/plain": [
       "<Figure size 432x288 with 1 Axes>"
      ]
     },
     "metadata": {
      "needs_background": "light"
     },
     "output_type": "display_data"
    }
   ],
   "source": [
    "plt.plot(list(cash_profil.keys()), list(cash_profil.values()))\n",
    "plt.xlabel('probability')\n",
    "plt.ylabel('final cash')\n",
    "plt.show()"
   ]
  }
 ],
 "metadata": {
  "kernelspec": {
   "display_name": "Python 3",
   "language": "python",
   "name": "python3"
  },
  "language_info": {
   "codemirror_mode": {
    "name": "ipython",
    "version": 3
   },
   "file_extension": ".py",
   "mimetype": "text/x-python",
   "name": "python",
   "nbconvert_exporter": "python",
   "pygments_lexer": "ipython3",
   "version": "3.8.3"
  },
  "toc": {
   "base_numbering": 1,
   "nav_menu": {},
   "number_sections": true,
   "sideBar": true,
   "skip_h1_title": false,
   "title_cell": "Table of Contents",
   "title_sidebar": "Contents",
   "toc_cell": false,
   "toc_position": {},
   "toc_section_display": true,
   "toc_window_display": false
  }
 },
 "nbformat": 4,
 "nbformat_minor": 4
}
